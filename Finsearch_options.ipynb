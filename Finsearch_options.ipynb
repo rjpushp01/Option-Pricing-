{
  "nbformat": 4,
  "nbformat_minor": 0,
  "metadata": {
    "colab": {
      "provenance": []
    },
    "kernelspec": {
      "name": "python3",
      "display_name": "Python 3"
    },
    "language_info": {
      "name": "python"
    }
  },
  "cells": [
    {
      "cell_type": "markdown",
      "source": [
        "Binomial"
      ],
      "metadata": {
        "id": "CDtNx8oQMXUq"
      }
    },
    {
      "cell_type": "code",
      "execution_count": null,
      "metadata": {
        "id": "j8l2cYrsLZyO",
        "colab": {
          "base_uri": "https://localhost:8080/"
        },
        "outputId": "721c5b1a-934d-475d-8297-99b530b292bc"
      },
      "outputs": [
        {
          "output_type": "stream",
          "name": "stderr",
          "text": [
            "/tmp/ipython-input-11-1792675206.py:29: FutureWarning: YF.download() has changed argument auto_adjust default to True\n",
            "  data = yf.download('AAPL', start='2023-01-01', end='2024-01-01')\n",
            "\r[*********************100%***********************]  1 of 1 completed\n",
            "/tmp/ipython-input-11-1792675206.py:13: FutureWarning: Calling float on a single element Series is deprecated and will raise a TypeError in the future. Use float(ser.iloc[0]) instead\n",
            "  ST[i] = S0 * (u ** (N - i)) * (d ** i)\n"
          ]
        }
      ],
      "source": [
        "import numpy as np\n",
        "import pandas as pd\n",
        "import yfinance as yf\n",
        "\n",
        "def binomial_model(S0, K, T, r, sigma, N, option_type='call'):\n",
        "    dt = T / N\n",
        "    u = np.exp(sigma * np.sqrt(dt))  # Up factor\n",
        "    d = 1 / u                        # Down factor\n",
        "    p = (np.exp(r * dt) - d) / (u - d)  # Risk-neutral probability\n",
        "\n",
        "    ST = np.zeros(N + 1)\n",
        "    for i in range(N + 1):\n",
        "        ST[i] = S0 * (u ** (N - i)) * (d ** i)\n",
        "\n",
        "    if option_type == 'call':\n",
        "        option = np.maximum(ST - K, 0)\n",
        "    elif option_type == 'put':\n",
        "        option = np.maximum(K - ST, 0)\n",
        "    else:\n",
        "        raise ValueError(\"option_type must be 'call' or 'put'\")\n",
        "\n",
        "    for j in range(N - 1, -1, -1):\n",
        "        for i in range(j + 1):\n",
        "            option[i] = np.exp(-r * dt) * (p * option[i] + (1 - p) * option[i + 1])\n",
        "\n",
        "    return option[0]\n",
        "\n",
        "# Download data\n",
        "data = yf.download('AAPL', start='2023-01-01', end='2024-01-01')\n",
        "\n",
        "K = 180.0      # Strike price\n",
        "T = 30 / 365   # Time to maturity (30 days)\n",
        "r = 0.05       # Risk-free rate (5%)\n",
        "sigma = 0.25   # Volatility (25%)\n",
        "N = 100        # Number of time steps\n",
        "\n",
        "entry_dates = []\n",
        "exit_dates = []\n",
        "profits = []\n",
        "\n",
        "for i in range(len(data) - 1):\n",
        "    S0 = data['Close'].iloc[i]\n",
        "    entry_date = data.index[i]\n",
        "    binomial_price = binomial_model(S0, K, T, r, sigma, N, option_type='call')\n",
        "\n",
        "    if binomial_price < 2.0:\n",
        "        entry_dates.append(entry_date)\n",
        "        exit_index = min(i + 10, len(data) - 1)\n",
        "        exit_date = data.index[exit_index]\n",
        "        S1 = data['Close'].iloc[exit_index]\n",
        "        exit_price = binomial_model(S1, K, T, r, sigma, N, option_type='call')\n",
        "        profits.append(exit_price - binomial_price)\n",
        "        exit_dates.append(exit_date)\n",
        "\n",
        "trade_details_binomial = pd.DataFrame({\n",
        "    \"Entry Date\": entry_dates,\n",
        "    \"Exit Date\": exit_dates,\n",
        "    \"Profit\": profits\n",
        "})\n",
        "\n",
        "trade_details_binomial.to_csv('binomial_trade_details.csv', index=False)\n"
      ]
    },
    {
      "cell_type": "code",
      "source": [],
      "metadata": {
        "id": "q9K5VPgmWtIc"
      },
      "execution_count": null,
      "outputs": []
    },
    {
      "cell_type": "markdown",
      "source": [
        "Black Scholes"
      ],
      "metadata": {
        "id": "Ah9FZnOtMaWf"
      }
    },
    {
      "cell_type": "code",
      "source": [
        "import numpy as np\n",
        "import pandas as pd\n",
        "import yfinance as yf\n",
        "from scipy.stats import norm\n",
        "\n",
        "def black_scholes(S, K, T, r, sigma, option_type='call'):\n",
        "    if T <= 0:\n",
        "        # Option expired; payoff is intrinsic value\n",
        "        if option_type == 'call':\n",
        "            return max(S - K, 0)\n",
        "        elif option_type == 'put':\n",
        "            return max(K - S, 0)\n",
        "        else:\n",
        "            raise ValueError(\"option_type must be 'call' or 'put'\")\n",
        "\n",
        "    d1 = (np.log(S / K) + (r + 0.5 * sigma**2) * T) / (sigma * np.sqrt(T))\n",
        "    d2 = d1 - sigma * np.sqrt(T)\n",
        "\n",
        "    if option_type == 'call':\n",
        "        price = S * norm.cdf(d1) - K * np.exp(-r * T) * norm.cdf(d2)\n",
        "    elif option_type == 'put':\n",
        "        price = K * np.exp(-r * T) * norm.cdf(-d2) - S * norm.cdf(-d1)\n",
        "    else:\n",
        "        raise ValueError(\"option_type must be 'call' or 'put'\")\n",
        "\n",
        "    return price\n",
        "\n",
        "# Download historical data, specifying auto_adjust=False to suppress warning\n",
        "data = yf.download('AAPL', start='2023-01-01', end='2024-01-01', auto_adjust=False)\n",
        "\n",
        "# Drop missing values if any\n",
        "data = data.dropna()\n",
        "\n",
        "K = 180.0       # Strike price\n",
        "T = 30 / 365    # Time to maturity (30 days)\n",
        "r = 0.05        # Risk-free rate (5%)\n",
        "sigma = 0.25    # Volatility (25%)\n",
        "\n",
        "entry_dates = []\n",
        "exit_dates = []\n",
        "profits = []\n",
        "\n",
        "for i in range(len(data) - 1):\n",
        "    S0 = float(data['Close'].iloc[i])   # ensure scalar float\n",
        "    entry_date = data.index[i]\n",
        "    bs_price = black_scholes(S0, K, T, r, sigma, option_type='call')\n",
        "\n",
        "    if bs_price < 2.0:\n",
        "        entry_dates.append(entry_date)\n",
        "        exit_index = min(i + 10, len(data) - 1)\n",
        "        exit_date = data.index[exit_index]\n",
        "        S1 = float(data['Close'].iloc[exit_index])  # ensure scalar float\n",
        "        exit_price = black_scholes(S1, K, T, r, sigma, option_type='call')\n",
        "        profits.append(exit_price - bs_price)\n",
        "        exit_dates.append(exit_date)\n",
        "\n",
        "trade_details_black_scholes = pd.DataFrame({\n",
        "    'Entry Date': entry_dates,\n",
        "    'Exit Date': exit_dates,\n",
        "    'Profit': profits\n",
        "})\n",
        "\n",
        "trade_details_black_scholes.to_csv('black_scholes_trade_details.csv', index=False)"
      ],
      "metadata": {
        "id": "6lsTlmeTMp64",
        "colab": {
          "base_uri": "https://localhost:8080/"
        },
        "outputId": "7fb97f31-e5ad-4fa6-de04-f305a3b435fb"
      },
      "execution_count": null,
      "outputs": [
        {
          "output_type": "stream",
          "name": "stderr",
          "text": [
            "\r[*********************100%***********************]  1 of 1 completed\n",
            "/tmp/ipython-input-9-1750595104.py:44: FutureWarning: Calling float on a single element Series is deprecated and will raise a TypeError in the future. Use float(ser.iloc[0]) instead\n",
            "  S0 = float(data['Close'].iloc[i])   # ensure scalar float\n",
            "/tmp/ipython-input-9-1750595104.py:52: FutureWarning: Calling float on a single element Series is deprecated and will raise a TypeError in the future. Use float(ser.iloc[0]) instead\n",
            "  S1 = float(data['Close'].iloc[exit_index])  # ensure scalar float\n"
          ]
        }
      ]
    },
    {
      "cell_type": "markdown",
      "source": [
        "Monte Carlo"
      ],
      "metadata": {
        "id": "JFkPDxHqMrTH"
      }
    },
    {
      "cell_type": "code",
      "source": [
        "import yfinance as yf\n",
        "import numpy as np\n",
        "import pandas as pd\n",
        "\n",
        "def monte_carlo_simulation(S0, K, T, r, sigma, M, I):\n",
        "    dt = T / M\n",
        "    Z = np.random.standard_normal((M, I))\n",
        "    S = np.zeros((M + 1, I))\n",
        "    S[0] = S0\n",
        "    for t in range(1, M + 1):\n",
        "        S[t] = S[t - 1] * np.exp((r - 0.5 * sigma ** 2) * dt + sigma * np.sqrt(dt) * Z[t - 1])\n",
        "    payoff = np.maximum(S[-1] - K, 0)\n",
        "    option_price = np.exp(-r * T) * np.mean(payoff)\n",
        "    return option_price\n",
        "\n",
        "# Download historical data for AAPL\n",
        "data = yf.download('AAPL', start='2023-01-01', end='2024-01-01')\n",
        "\n",
        "K = 180.0       # Strike price\n",
        "T = 30 / 365    # Time to maturity (30 days)\n",
        "r = 0.05        # Risk-free rate (5%)\n",
        "sigma = 0.25    # Volatility (25%)\n",
        "M = 100         # Number of time steps\n",
        "I = 100000      # Number of simulations\n",
        "\n",
        "entry_dates = []\n",
        "exit_dates = []\n",
        "profits = []\n",
        "\n",
        "for i in range(len(data) - 1):\n",
        "    S0 = data['Close'].iloc[i]\n",
        "    entry_date = data.index[i]\n",
        "    monte_carlo_price = monte_carlo_simulation(S0, K, T, r, sigma, M, I)\n",
        "\n",
        "    if monte_carlo_price < 2.0:\n",
        "        entry_dates.append(entry_date)\n",
        "        exit_idx = min(i + 10, len(data) - 1)\n",
        "        exit_date = data.index[exit_idx]\n",
        "        S1 = data['Close'].iloc[exit_idx]\n",
        "        exit_price = monte_carlo_simulation(S1, K, T, r, sigma, M, I)\n",
        "        profits.append(exit_price - monte_carlo_price)\n",
        "        exit_dates.append(exit_date)\n",
        "\n",
        "# Create DataFrame of trade details\n",
        "trade_details_monte_carlo = pd.DataFrame({\n",
        "    'Entry Date': entry_dates,\n",
        "    'Exit Date': exit_dates,\n",
        "    'Profit': profits\n",
        "})\n",
        "\n",
        "trade_details_monte_carlo.to_csv('monte_carlo_trade_details.csv', index=False)\n"
      ],
      "metadata": {
        "colab": {
          "base_uri": "https://localhost:8080/"
        },
        "id": "dMdeY9FSMs9q",
        "outputId": "f1c7a6c0-10d7-4fd8-f94f-79277ecc438f"
      },
      "execution_count": null,
      "outputs": [
        {
          "output_type": "stream",
          "name": "stderr",
          "text": [
            "/tmp/ipython-input-10-977538005.py:17: FutureWarning: YF.download() has changed argument auto_adjust default to True\n",
            "  data = yf.download('AAPL', start='2023-01-01', end='2024-01-01')\n",
            "\r[*********************100%***********************]  1 of 1 completed\n"
          ]
        }
      ]
    },
    {
      "cell_type": "code",
      "source": [],
      "metadata": {
        "id": "FwWG3hvbNgHL"
      },
      "execution_count": null,
      "outputs": []
    }
  ]
}